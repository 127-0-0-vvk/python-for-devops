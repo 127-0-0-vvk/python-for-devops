{
  "nbformat": 4,
  "nbformat_minor": 0,
  "metadata": {
    "colab": {
      "provenance": [],
      "toc_visible": true,
      "machine_shape": "hm",
      "authorship_tag": "ABX9TyM0Jlfmtt2Q/b7qkx/2djnZ",
      "include_colab_link": true
    },
    "kernelspec": {
      "name": "python3",
      "display_name": "Python 3"
    },
    "language_info": {
      "name": "python"
    },
    "gpuClass": "standard"
  },
  "cells": [
    {
      "cell_type": "markdown",
      "metadata": {
        "id": "view-in-github",
        "colab_type": "text"
      },
      "source": [
        "<a href=\"https://colab.research.google.com/github/127-0-0-vvk/python-for-devops/blob/main/getting_started_python.ipynb\" target=\"_parent\"><img src=\"https://colab.research.google.com/assets/colab-badge.svg\" alt=\"Open In Colab\"/></a>"
      ]
    },
    {
      "cell_type": "markdown",
      "source": [
        "\n",
        "\n",
        "## Introduction to Python\n",
        "\n"
      ],
      "metadata": {
        "id": "HIFb0FkTsp6f"
      }
    },
    {
      "cell_type": "markdown",
      "source": [
        "## Statements in Python"
      ],
      "metadata": {
        "id": "cBAoaIYIs2V8"
      }
    },
    {
      "cell_type": "code",
      "source": [
        "print(\"hello\")"
      ],
      "metadata": {
        "colab": {
          "base_uri": "https://localhost:8080/"
        },
        "id": "TihDL0Nos4kd",
        "outputId": "4360410d-fc62-4b1f-c7dc-07be5b9102fa"
      },
      "execution_count": 1,
      "outputs": [
        {
          "output_type": "stream",
          "name": "stdout",
          "text": [
            "hello\n"
          ]
        }
      ]
    },
    {
      "cell_type": "code",
      "source": [
        "name = \"Vvk\"\n",
        "print(f\"Hello {name}\")"
      ],
      "metadata": {
        "colab": {
          "base_uri": "https://localhost:8080/"
        },
        "id": "5nVYNkFBtCNm",
        "outputId": "9726512a-fbfd-4555-ef72-024cf0376da8"
      },
      "execution_count": 3,
      "outputs": [
        {
          "output_type": "stream",
          "name": "stdout",
          "text": [
            "Hello Vvk\n"
          ]
        }
      ]
    },
    {
      "cell_type": "markdown",
      "source": [
        "### DataStructures: Lists and Dictionaries"
      ],
      "metadata": {
        "id": "YP-oFrIQtf-x"
      }
    },
    {
      "cell_type": "markdown",
      "source": [
        "#### list"
      ],
      "metadata": {
        "id": "Km25Px_WuWG7"
      }
    },
    {
      "cell_type": "code",
      "source": [
        "fruit = [\"apple\", \"pear\", \"strawberry\"]\n",
        "fruit"
      ],
      "metadata": {
        "colab": {
          "base_uri": "https://localhost:8080/"
        },
        "id": "ZZttLG-TtKDg",
        "outputId": "d6a7f2cd-0c77-4e62-cb16-26ec779e5b58"
      },
      "execution_count": 5,
      "outputs": [
        {
          "output_type": "execute_result",
          "data": {
            "text/plain": [
              "['apple', 'pear', 'strawberry']"
            ]
          },
          "metadata": {},
          "execution_count": 5
        }
      ]
    },
    {
      "cell_type": "code",
      "source": [
        "fruit[-1]"
      ],
      "metadata": {
        "colab": {
          "base_uri": "https://localhost:8080/",
          "height": 35
        },
        "id": "M7sTf90ltdFb",
        "outputId": "f072f998-9f70-4be7-c793-b3163126c059"
      },
      "execution_count": 8,
      "outputs": [
        {
          "output_type": "execute_result",
          "data": {
            "text/plain": [
              "'strawberry'"
            ],
            "application/vnd.google.colaboratory.intrinsic+json": {
              "type": "string"
            }
          },
          "metadata": {},
          "execution_count": 8
        }
      ]
    },
    {
      "cell_type": "code",
      "source": [
        "for my_fruit in fruit:\n",
        "    print(f\"this is my fkngfruit: {my_fruit}\")"
      ],
      "metadata": {
        "colab": {
          "base_uri": "https://localhost:8080/"
        },
        "id": "0fOi-YV6ty2W",
        "outputId": "7764ec72-9f8d-4470-cc1a-fe937e4e13ec"
      },
      "execution_count": 9,
      "outputs": [
        {
          "output_type": "stream",
          "name": "stdout",
          "text": [
            "this is my fkngfruit: apple\n",
            "this is my fkngfruit: pear\n",
            "this is my fkngfruit: strawberry\n"
          ]
        }
      ]
    },
    {
      "cell_type": "markdown",
      "source": [
        "#### Dictionary"
      ],
      "metadata": {
        "id": "mOgf70lhuZCC"
      }
    },
    {
      "cell_type": "code",
      "source": [
        "meal = {\"breakfast\": \" black coffee\", \"lunch\": \"salad\", \"dinner\": \"biryani\"}\n",
        "meal.keys()"
      ],
      "metadata": {
        "colab": {
          "base_uri": "https://localhost:8080/"
        },
        "id": "xst0D7oVuFzL",
        "outputId": "207f3131-a0d5-4f10-e9f9-81d612b536ca"
      },
      "execution_count": 10,
      "outputs": [
        {
          "output_type": "execute_result",
          "data": {
            "text/plain": [
              "dict_keys(['breakfast', 'lunch', 'dinner'])"
            ]
          },
          "metadata": {},
          "execution_count": 10
        }
      ]
    },
    {
      "cell_type": "code",
      "source": [
        "meal.values()"
      ],
      "metadata": {
        "colab": {
          "base_uri": "https://localhost:8080/"
        },
        "id": "XR_U0kIFutpN",
        "outputId": "3eb241ff-9b3a-41d6-f8b4-0af542338a68"
      },
      "execution_count": 12,
      "outputs": [
        {
          "output_type": "execute_result",
          "data": {
            "text/plain": [
              "dict_values([' black coffee', 'salad', 'biryani'])"
            ]
          },
          "metadata": {},
          "execution_count": 12
        }
      ]
    },
    {
      "cell_type": "code",
      "source": [
        "for meal_name, meal_item in meal.items():\n",
        "    print(f\" this meal {meal_name} is when i like to consume {meal_item}\")"
      ],
      "metadata": {
        "colab": {
          "base_uri": "https://localhost:8080/"
        },
        "id": "EPGIij7Duxty",
        "outputId": "ce617714-70e8-4cd9-bbcc-30d1a24382f3"
      },
      "execution_count": 13,
      "outputs": [
        {
          "output_type": "stream",
          "name": "stdout",
          "text": [
            " this meal breakfast is when i like to consume  black coffee\n",
            " this meal lunch is when i like to consume salad\n",
            " this meal dinner is when i like to consume biryani\n"
          ]
        }
      ]
    },
    {
      "cell_type": "code",
      "source": [],
      "metadata": {
        "id": "XxdNjDyFvGs1"
      },
      "execution_count": null,
      "outputs": []
    }
  ]
}